{
 "cells": [
  {
   "cell_type": "markdown",
   "id": "urban-depression",
   "metadata": {},
   "source": [
    "TreeNode constructor"
   ]
  },
  {
   "cell_type": "code",
   "execution_count": 2,
   "id": "cooperative-scene",
   "metadata": {},
   "outputs": [],
   "source": [
    "class TreeNode:\n",
    "    def __init__(self, val):\n",
    "        self.val = val\n",
    "        self.left = None\n",
    "        self.right = None"
   ]
  },
  {
   "cell_type": "markdown",
   "id": "single-pacific",
   "metadata": {},
   "source": [
    "Building Tree\n",
    "<img src=\"https://user-images.githubusercontent.com/33580298/104766838-393d4080-5739-11eb-994a-260c7135e93a.png\" width=250 height=250 />"
   ]
  },
  {
   "cell_type": "code",
   "execution_count": null,
   "id": "clear-rainbow",
   "metadata": {},
   "outputs": [],
   "source": []
  },
  {
   "cell_type": "code",
   "execution_count": 13,
   "id": "junior-contamination",
   "metadata": {},
   "outputs": [],
   "source": [
    "# Create nodes\n",
    "node1 = TreeNode(8)\n",
    "node2 = TreeNode(3)\n",
    "node3 = TreeNode(10)\n",
    "node4 = TreeNode(1)\n",
    "node5 = TreeNode(6)\n",
    "node6 = TreeNode(14)\n",
    "node7 = TreeNode(4)\n",
    "node8 = TreeNode(7)\n",
    "node9 = TreeNode(13)\n",
    "\n",
    "# connect nodes\n",
    "node1.left = node2\n",
    "node1.right = node3\n",
    "node2.left = node4\n",
    "node2.right = node5\n",
    "node3.right = node6\n",
    "node5.left = node7\n",
    "node5.right = node8\n",
    "node6.left = node9"
   ]
  },
  {
   "cell_type": "code",
   "execution_count": 10,
   "id": "close-powell",
   "metadata": {},
   "outputs": [],
   "source": [
    "from collections import deque\n",
    "def breadth_first_search(root):\n",
    "    if not root:\n",
    "        return\n",
    "    \n",
    "    queue = deque()\n",
    "    queue.append(root)\n",
    "    \n",
    "    while queue:\n",
    "        cur = queue.popleft()\n",
    "        print(cur.val, end=\" \")\n",
    "        \n",
    "        if cur.left:\n",
    "            queue.append(cur.left)\n",
    "        if cur.right:\n",
    "            queue.append(cur.right)"
   ]
  },
  {
   "cell_type": "code",
   "execution_count": 14,
   "id": "mysterious-rating",
   "metadata": {},
   "outputs": [
    {
     "name": "stdout",
     "output_type": "stream",
     "text": [
      "8 3 10 1 6 14 4 7 13 "
     ]
    }
   ],
   "source": [
    "breadth_first_search(node1)"
   ]
  },
  {
   "cell_type": "code",
   "execution_count": null,
   "id": "legal-weekend",
   "metadata": {},
   "outputs": [],
   "source": []
  }
 ],
 "metadata": {
  "_draft": {
   "nbviewer_url": "https://gist.github.com/cc3611ed8fdf3dae3939f5793726dc94"
  },
  "gist": {
   "data": {
    "description": "Binary Tree",
    "public": true
   },
   "id": "cc3611ed8fdf3dae3939f5793726dc94"
  },
  "kernelspec": {
   "display_name": "Python 3",
   "language": "python",
   "name": "python3"
  },
  "language_info": {
   "codemirror_mode": {
    "name": "ipython",
    "version": 3
   },
   "file_extension": ".py",
   "mimetype": "text/x-python",
   "name": "python",
   "nbconvert_exporter": "python",
   "pygments_lexer": "ipython3",
   "version": "3.8.6"
  }
 },
 "nbformat": 4,
 "nbformat_minor": 5
}
