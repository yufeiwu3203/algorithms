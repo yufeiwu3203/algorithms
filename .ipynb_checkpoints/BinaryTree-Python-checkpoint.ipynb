{
 "cells": [
  {
   "cell_type": "markdown",
   "id": "urban-depression",
   "metadata": {},
   "source": [
    "TreeNode constructor"
   ]
  },
  {
   "cell_type": "code",
   "execution_count": 2,
   "id": "cooperative-scene",
   "metadata": {},
   "outputs": [],
   "source": [
    "class TreeNode:\n",
    "    def __init__(self, val):\n",
    "        self.val = val\n",
    "        self.left = None\n",
    "        self.right = None"
   ]
  },
  {
   "cell_type": "markdown",
   "id": "single-pacific",
   "metadata": {},
   "source": [
    "Building Tree"
   ]
  },
  {
   "cell_type": "code",
   "execution_count": 3,
   "id": "junior-contamination",
   "metadata": {},
   "outputs": [],
   "source": [
    "node1 = TreeNode(8)"
   ]
  },
  {
   "cell_type": "code",
   "execution_count": null,
   "id": "welcome-weight",
   "metadata": {},
   "outputs": [],
   "source": []
  },
  {
   "cell_type": "code",
   "execution_count": null,
   "id": "close-powell",
   "metadata": {},
   "outputs": [],
   "source": [
    "def breadth_first_search(root):\n",
    "    if not root:\n",
    "        "
   ]
  }
 ],
 "metadata": {
  "gist": {
   "data": {
    "description": "Binary Tree",
    "public": true
   },
   "id": ""
  },
  "kernelspec": {
   "display_name": "Python 3",
   "language": "python",
   "name": "python3"
  },
  "language_info": {
   "codemirror_mode": {
    "name": "ipython",
    "version": 3
   },
   "file_extension": ".py",
   "mimetype": "text/x-python",
   "name": "python",
   "nbconvert_exporter": "python",
   "pygments_lexer": "ipython3",
   "version": "3.8.6"
  }
 },
 "nbformat": 4,
 "nbformat_minor": 5
}
